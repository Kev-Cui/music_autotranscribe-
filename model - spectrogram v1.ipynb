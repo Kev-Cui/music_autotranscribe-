{
 "cells": [
  {
   "cell_type": "code",
   "execution_count": 6,
   "id": "65ac522e",
   "metadata": {},
   "outputs": [],
   "source": [
    "import pickle\n",
    "import numpy as np\n",
    "import pandas as pd\n",
    "import random\n",
    "from sklearn.model_selection import train_test_split\n",
    "from sklearn.preprocessing import MinMaxScaler\n",
    "from tensorflow.keras.models import Sequential\n",
    "from tensorflow.keras.layers import LSTM, Dense"
   ]
  },
  {
   "cell_type": "code",
   "execution_count": 4,
   "id": "d2341aba",
   "metadata": {},
   "outputs": [
    {
     "name": "stdout",
     "output_type": "stream",
     "text": [
      "X: 329\n"
     ]
    }
   ],
   "source": [
    "with open(\"piano_data_spectogram.pkl\", \"rb\") as f:\n",
    "    data = pickle.load(f)\n",
    "    print('data:',len(data))"
   ]
  },
  {
   "cell_type": "code",
   "execution_count": null,
   "id": "81e3a34e",
   "metadata": {},
   "outputs": [],
   "source": [
    "# filter data\n"
   ]
  },
  {
   "cell_type": "code",
   "execution_count": 8,
   "id": "55d9a5e3",
   "metadata": {},
   "outputs": [],
   "source": [
    "# create test set\n",
    "random.seed(42)\n",
    "data_test = random.sample(data, 29) # Randomly sample 29 elements from the list\n",
    "data = [elem for elem in data if elem not in data_test] # Remove the selected elements from the original list"
   ]
  },
  {
   "cell_type": "code",
   "execution_count": 10,
   "id": "7e0f3d1f",
   "metadata": {},
   "outputs": [
    {
     "data": {
      "text/plain": [
       "29"
      ]
     },
     "execution_count": 10,
     "metadata": {},
     "output_type": "execute_result"
    }
   ],
   "source": [
    "len(data_test)"
   ]
  },
  {
   "cell_type": "code",
   "execution_count": null,
   "id": "2016849e",
   "metadata": {},
   "outputs": [],
   "source": []
  }
 ],
 "metadata": {
  "kernelspec": {
   "display_name": "Python 3 (ipykernel)",
   "language": "python",
   "name": "python3"
  },
  "language_info": {
   "codemirror_mode": {
    "name": "ipython",
    "version": 3
   },
   "file_extension": ".py",
   "mimetype": "text/x-python",
   "name": "python",
   "nbconvert_exporter": "python",
   "pygments_lexer": "ipython3",
   "version": "3.11.5"
  }
 },
 "nbformat": 4,
 "nbformat_minor": 5
}
