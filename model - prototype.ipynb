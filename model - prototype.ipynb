{
 "cells": [
  {
   "cell_type": "code",
   "execution_count": null,
   "id": "531410cc",
   "metadata": {},
   "outputs": [],
   "source": [
    "# load data\n",
    "import pickle\n",
    "import numpy as np\n",
    "\n",
    "with open(\"piano_X.pkl\", \"rb\") as f:\n",
    "    X = pickle.load(f)\n",
    "    print('X:',len(data))\n",
    "\n",
    "with open(\"piano_y.pkl\", \"rb\") as f:\n",
    "    y = pickle.load(f)\n",
    "    print('X:',len(data))"
   ]
  },
  {
   "cell_type": "code",
   "execution_count": null,
   "id": "246e2f79",
   "metadata": {},
   "outputs": [],
   "source": [
    "# scale and split\n",
    "\n",
    "from sklearn.model_selection import train_test_split\n",
    "from sklearn.preprocessing import StandardScaler\n",
    "\n",
    "scaler = StandardScaler()\n",
    "for i, note in enumerate(X):\n",
    "    X[i] = scaler.fit_transform(note) # transform the whole thing\n",
    "\n",
    "X_train, X_test, y_train, y_test = train_test_split(X, y, test_size=0.2, random_state=42) # split"
   ]
  },
  {
   "cell_type": "code",
   "execution_count": null,
   "id": "8b02c8f5",
   "metadata": {},
   "outputs": [],
   "source": [
    "# CNN model design\n",
    "\n",
    "import tensorflow as tf\n",
    "from tensorflow.keras import layers, models\n",
    "\n",
    "# Define the CNN model\n",
    "model = models.Sequential()\n",
    "\n",
    "# Input layer\n",
    "model.add(layers.Input(shape=(13, 50)))  # 1754 time steps for each MFCC\n",
    "\n",
    "# Convolutional layers\n",
    "model.add(layers.Conv1D(filters=32, kernel_size=3, activation='relu'))\n",
    "model.add(layers.MaxPooling1D(pool_size=2))\n",
    "model.add(layers.Conv1D(filters=64, kernel_size=3, activation='relu'))\n",
    "model.add(layers.MaxPooling1D(pool_size=2))\n",
    "\n",
    "# Flatten layer\n",
    "model.add(layers.Flatten())\n",
    "\n",
    "# Fully connected layers\n",
    "model.add(layers.Dense(units=128, activation='relu'))\n",
    "model.add(layers.Dropout(0.5))  # Optional dropout for regularization\n",
    "model.add(layers.Dense(units=64, activation='relu'))\n",
    "\n",
    "# Output layer\n",
    "# Assuming you want to predict MIDI note information (pitch, velocity)\n",
    "output_dim = 2  # Adjust based on your output dimensions\n",
    "model.add(layers.Dense(units=output_dim, activation='linear'))  # Linear activation for regression\n",
    "\n",
    "# Compile the model\n",
    "model.compile(optimizer='adam', loss='mean_squared_error')  # Use appropriate loss function\n",
    "\n",
    "# Summary of the model architecture\n",
    "model.summary()"
   ]
  }
 ],
 "metadata": {
  "kernelspec": {
   "display_name": "Python 3 (ipykernel)",
   "language": "python",
   "name": "python3"
  },
  "language_info": {
   "codemirror_mode": {
    "name": "ipython",
    "version": 3
   },
   "file_extension": ".py",
   "mimetype": "text/x-python",
   "name": "python",
   "nbconvert_exporter": "python",
   "pygments_lexer": "ipython3",
   "version": "3.11.5"
  }
 },
 "nbformat": 4,
 "nbformat_minor": 5
}
