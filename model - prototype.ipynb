{
 "cells": [
  {
   "cell_type": "code",
   "execution_count": 46,
   "id": "dd4b50fb",
   "metadata": {},
   "outputs": [
    {
     "name": "stdout",
     "output_type": "stream",
     "text": [
      "X: 673098\n",
      "X: 673098\n"
     ]
    }
   ],
   "source": [
    "# load data\n",
    "import pickle\n",
    "import numpy as np\n",
    "\n",
    "with open(\"piano_X.pkl\", \"rb\") as f:\n",
    "    X = pickle.load(f)\n",
    "    print('X:',len(X))\n",
    "\n",
    "with open(\"piano_y.pkl\", \"rb\") as f:\n",
    "    y = pickle.load(f)\n",
    "    print('X:',len(X))"
   ]
  },
  {
   "cell_type": "code",
   "execution_count": 47,
   "id": "2947d9ca",
   "metadata": {},
   "outputs": [],
   "source": [
    "import pandas as pd\n",
    "y = pd.DataFrame(y, columns=['pitch','velocity'])\n",
    "y = y['pitch'].astype(int)"
   ]
  },
  {
   "cell_type": "code",
   "execution_count": 48,
   "id": "af6a764a",
   "metadata": {},
   "outputs": [
    {
     "data": {
      "text/plain": [
       "0         57\n",
       "1         81\n",
       "2         62\n",
       "3         86\n",
       "4         64\n",
       "          ..\n",
       "673093    64\n",
       "673094    67\n",
       "673095    72\n",
       "673096    40\n",
       "673097    43\n",
       "Name: pitch, Length: 673098, dtype: int32"
      ]
     },
     "execution_count": 48,
     "metadata": {},
     "output_type": "execute_result"
    }
   ],
   "source": [
    "y"
   ]
  },
  {
   "cell_type": "code",
   "execution_count": 10,
   "id": "25408d36",
   "metadata": {},
   "outputs": [],
   "source": [
    "# scale and split\n",
    "\n",
    "from sklearn.model_selection import train_test_split\n",
    "from sklearn.preprocessing import StandardScaler\n",
    "\n",
    "scaler = StandardScaler()\n",
    "for i, note in enumerate(X):\n",
    "    X[i] = scaler.fit_transform(note) # transform the whole thing\n",
    "\n"
   ]
  },
  {
   "cell_type": "code",
   "execution_count": 49,
   "id": "be20943b",
   "metadata": {},
   "outputs": [],
   "source": [
    "X_train, X_test, y_train, y_test = train_test_split(X, y, test_size=0.2, random_state=42) # split"
   ]
  },
  {
   "cell_type": "code",
   "execution_count": 50,
   "id": "c228df82",
   "metadata": {},
   "outputs": [],
   "source": [
    "# CNN classification model design\n",
    "\n",
    "# import tensorflow as tf\n",
    "# from tensorflow.keras import layers, models\n",
    "# from keras.layers import Conv2D, MaxPooling2D, Flatten, Dense, Dropout\n",
    "\n",
    "# # Define the CNN model\n",
    "# model = models.Sequential()\n",
    "\n",
    "# # Input layer\n",
    "# model.add(layers.Input(shape=(13, 50)))  # Assuming 50 time steps and 13 coefficients\n",
    "\n",
    "# # Convolutional layers\n",
    "# model.add(layers.Conv1D(filters=32, kernel_size=3, activation='relu', padding='same'))\n",
    "# model.add(layers.MaxPooling1D(pool_size=2))\n",
    "# model.add(layers.Conv1D(filters=64, kernel_size=3, activation='relu', padding='same'))\n",
    "# model.add(layers.MaxPooling1D(pool_size=2))\n",
    "# model.add(layers.Conv1D(filters=128, kernel_size=3, activation='relu', padding='same'))\n",
    "# model.add(layers.MaxPooling1D(pool_size=2))\n",
    "\n",
    "# # Flatten layer\n",
    "# model.add(layers.Flatten())\n",
    "\n",
    "# # Fully connected layers\n",
    "# model.add(layers.Dense(units=256, activation='relu'))\n",
    "# model.add(layers.Dropout(0.5))\n",
    "# model.add(layers.Dense(units=128, activation='relu'))\n",
    "\n",
    "# # Output layer\n",
    "# num_pitch_classes = 87  # Adjust based on your pitch classes\n",
    "# model.add(layers.Dense(units=num_pitch_classes, activation='softmax'))\n",
    "\n",
    "# # Compile the model\n",
    "# model.compile(optimizer='adam', loss='categorical_crossentropy', metrics=['accuracy'])\n",
    "\n",
    "# # Summary of the model architecture\n",
    "# model.summary()"
   ]
  },
  {
   "cell_type": "code",
   "execution_count": 51,
   "id": "f13d416e",
   "metadata": {},
   "outputs": [
    {
     "name": "stdout",
     "output_type": "stream",
     "text": [
      "Model: \"sequential_27\"\n",
      "_________________________________________________________________\n",
      " Layer (type)                Output Shape              Param #   \n",
      "=================================================================\n",
      " conv1d_81 (Conv1D)          (None, 11, 64)            9664      \n",
      "                                                                 \n",
      " max_pooling1d_77 (MaxPooli  (None, 5, 64)             0         \n",
      " ng1D)                                                           \n",
      "                                                                 \n",
      " flatten_15 (Flatten)        (None, 320)               0         \n",
      "                                                                 \n",
      " dense_45 (Dense)            (None, 128)               41088     \n",
      "                                                                 \n",
      " dense_46 (Dense)            (None, 1)                 129       \n",
      "                                                                 \n",
      "=================================================================\n",
      "Total params: 50881 (198.75 KB)\n",
      "Trainable params: 50881 (198.75 KB)\n",
      "Non-trainable params: 0 (0.00 Byte)\n",
      "_________________________________________________________________\n"
     ]
    }
   ],
   "source": [
    "# import tensorflow as tf\n",
    "# from tensorflow.keras.layers import Conv1D, MaxPooling1D, Flatten, Dense, Input\n",
    "# from tensorflow.keras.models import Model\n",
    "\n",
    "\n",
    "# input_shape = (13, 50)\n",
    "\n",
    "# model = tf.keras.Sequential()\n",
    "# model.add(Input(shape=input_shape))\n",
    "# model.add(Conv1D(64, kernel_size=3, activation='relu'))\n",
    "# model.add(MaxPooling1D(pool_size=2))\n",
    "# model.add(Flatten())\n",
    "# model.add(Dense(128, activation='relu'))\n",
    "# model.add(Dense(1, activation='linear'))  # Linear activation for regression\n",
    "# model.compile(optimizer='adam', loss='mean_squared_error', metrics=['mae'])\n",
    "# model.summary()"
   ]
  },
  {
   "cell_type": "code",
   "execution_count": 53,
   "id": "1d364b76",
   "metadata": {},
   "outputs": [
    {
     "name": "stdout",
     "output_type": "stream",
     "text": [
      "Model: \"sequential_28\"\n",
      "_________________________________________________________________\n",
      " Layer (type)                Output Shape              Param #   \n",
      "=================================================================\n",
      " lstm (LSTM)                 (None, 13, 64)            29440     \n",
      "                                                                 \n",
      " flatten_16 (Flatten)        (None, 832)               0         \n",
      "                                                                 \n",
      " dense_47 (Dense)            (None, 128)               106624    \n",
      "                                                                 \n",
      " dense_48 (Dense)            (None, 1)                 129       \n",
      "                                                                 \n",
      "=================================================================\n",
      "Total params: 136193 (532.00 KB)\n",
      "Trainable params: 136193 (532.00 KB)\n",
      "Non-trainable params: 0 (0.00 Byte)\n",
      "_________________________________________________________________\n"
     ]
    }
   ],
   "source": [
    "model = tf.keras.Sequential()\n",
    "model.add(Input(shape=input_shape))\n",
    "model.add(tf.keras.layers.LSTM(64, activation='relu', return_sequences=True))\n",
    "model.add(Flatten())\n",
    "model.add(Dense(128, activation='relu'))\n",
    "model.add(Dense(1, activation='linear'))  # Linear activation for regression\n",
    "model.compile(optimizer='adam', loss='mean_squared_error', metrics=['mae'])\n",
    "model.summary()"
   ]
  },
  {
   "cell_type": "code",
   "execution_count": 54,
   "id": "0981db92",
   "metadata": {},
   "outputs": [
    {
     "name": "stdout",
     "output_type": "stream",
     "text": [
      "Epoch 1/15\n",
      "1052/1052 [==============================] - 21s 19ms/step - loss: 180.0136 - mae: 10.2240 - val_loss: 140.4825 - val_mae: 9.3618\n",
      "Epoch 2/15\n",
      "1052/1052 [==============================] - 20s 19ms/step - loss: 137.1998 - mae: 9.2321 - val_loss: 132.4632 - val_mae: 9.1067\n",
      "Epoch 3/15\n",
      "1052/1052 [==============================] - 20s 19ms/step - loss: 128.6103 - mae: 8.9236 - val_loss: 129.9601 - val_mae: 8.8621\n",
      "Epoch 4/15\n",
      "1052/1052 [==============================] - 20s 19ms/step - loss: 124.5985 - mae: 8.7682 - val_loss: 123.5207 - val_mae: 8.7378\n",
      "Epoch 5/15\n",
      "1052/1052 [==============================] - 20s 19ms/step - loss: 121.6713 - mae: 8.6525 - val_loss: 124.8226 - val_mae: 8.6601\n",
      "Epoch 6/15\n",
      "1052/1052 [==============================] - 19s 18ms/step - loss: 120.1786 - mae: 8.5918 - val_loss: 119.2175 - val_mae: 8.5187\n",
      "Epoch 7/15\n",
      "1052/1052 [==============================] - 19s 18ms/step - loss: 117.5054 - mae: 8.4868 - val_loss: 120.7997 - val_mae: 8.5187\n",
      "Epoch 8/15\n",
      "1052/1052 [==============================] - 19s 18ms/step - loss: 116.0201 - mae: 8.4214 - val_loss: 117.0781 - val_mae: 8.4289\n",
      "Epoch 9/15\n",
      "1052/1052 [==============================] - 19s 18ms/step - loss: 114.5155 - mae: 8.3628 - val_loss: 114.9984 - val_mae: 8.3572\n",
      "Epoch 10/15\n",
      "1052/1052 [==============================] - 19s 18ms/step - loss: 113.3979 - mae: 8.3137 - val_loss: 115.4584 - val_mae: 8.2996\n",
      "Epoch 11/15\n",
      "1052/1052 [==============================] - 19s 18ms/step - loss: 112.1508 - mae: 8.2580 - val_loss: 114.1221 - val_mae: 8.2320\n",
      "Epoch 12/15\n",
      "1052/1052 [==============================] - 19s 18ms/step - loss: 110.8686 - mae: 8.2071 - val_loss: 116.9320 - val_mae: 8.4700\n",
      "Epoch 13/15\n",
      "1052/1052 [==============================] - 19s 18ms/step - loss: 110.1357 - mae: 8.1759 - val_loss: 114.3571 - val_mae: 8.2308\n",
      "Epoch 14/15\n",
      "1052/1052 [==============================] - 19s 18ms/step - loss: 109.0555 - mae: 8.1289 - val_loss: 115.1721 - val_mae: 8.2301\n",
      "Epoch 15/15\n",
      "1052/1052 [==============================] - 19s 18ms/step - loss: 108.0090 - mae: 8.0858 - val_loss: 111.2607 - val_mae: 8.1338\n"
     ]
    }
   ],
   "source": [
    "results = model.fit(X_train, y_train, \n",
    "                    epochs=15, batch_size=512,\n",
    "                    validation_data=(X_test, y_test))"
   ]
  },
  {
   "cell_type": "code",
   "execution_count": null,
   "id": "cdbdfc69",
   "metadata": {},
   "outputs": [],
   "source": [
    "# I keep getting mae close to 8. This is not ideal, even considered horrible, but that surprisingly is a whole octave"
   ]
  }
 ],
 "metadata": {
  "kernelspec": {
   "display_name": "Python 3 (ipykernel)",
   "language": "python",
   "name": "python3"
  },
  "language_info": {
   "codemirror_mode": {
    "name": "ipython",
    "version": 3
   },
   "file_extension": ".py",
   "mimetype": "text/x-python",
   "name": "python",
   "nbconvert_exporter": "python",
   "pygments_lexer": "ipython3",
   "version": "3.11.5"
  }
 },
 "nbformat": 4,
 "nbformat_minor": 5
}
