{
 "cells": [
  {
   "cell_type": "code",
   "execution_count": 29,
   "id": "21fd7011",
   "metadata": {},
   "outputs": [],
   "source": [
    "from tensorflow.keras.models import load_model\n",
    "\n",
    "# Returns a compiled model identical to the previous one\n",
    "model_path = 'piano_mfccs_RNN-LSTM.keras'\n",
    "model = load_model(model_path)"
   ]
  },
  {
   "cell_type": "code",
   "execution_count": 47,
   "id": "a9e8995f",
   "metadata": {},
   "outputs": [],
   "source": [
    "# load mp3 and convert to amp spectrogram\n",
    "import librosa\n",
    "import numpy as np\n",
    "\n",
    "mp3_file_path = 'piano_theme1.mp3'\n",
    "y, sr = librosa.load(mp3_file_path)\n",
    "# Compute MFCCs\n",
    "n_mfcc=13\n",
    "hop_length=512\n",
    "mfccs = librosa.feature.mfcc(y=y, sr=sr, n_mfcc=n_mfcc, hop_length=hop_length)"
   ]
  },
  {
   "cell_type": "code",
   "execution_count": 48,
   "id": "a36cfc8c",
   "metadata": {},
   "outputs": [
    {
     "data": {
      "text/plain": [
       "(13, 5178)"
      ]
     },
     "execution_count": 48,
     "metadata": {},
     "output_type": "execute_result"
    }
   ],
   "source": [
    "mfccs.shape"
   ]
  },
  {
   "cell_type": "code",
   "execution_count": 49,
   "id": "fba05b49",
   "metadata": {},
   "outputs": [],
   "source": [
    "# Transpose the mfccs to have time dimension first for splitting\n",
    "mfccs_t = np.transpose(mfccs)\n",
    "\n",
    "# Calculate the number of chunks\n",
    "num_chunks = mfccs_t.shape[0] // 50\n",
    "\n",
    "# Split the transposed mfccs into chunks\n",
    "chunks = np.array_split(mfccs_t[:num_chunks*50], num_chunks)\n",
    "\n",
    "# If there are remaining frames, pad the last chunk and add to chunks\n",
    "if mfccs_t.shape[0] % 50 != 0:\n",
    "    last_chunk = np.pad(mfccs_t[num_chunks*50:], ((0, 50 - mfccs_t.shape[0] % 50), (0, 0)), mode='constant')\n",
    "    chunks.append(last_chunk)\n",
    "\n",
    "# Transpose back the chunks\n",
    "X = np.array([np.transpose(chunk) for chunk in chunks])"
   ]
  },
  {
   "cell_type": "code",
   "execution_count": 50,
   "id": "b36f1868",
   "metadata": {},
   "outputs": [],
   "source": [
    "from sklearn.preprocessing import StandardScaler\n",
    "\n",
    "scaler = StandardScaler()\n",
    "for i, note in enumerate(X):\n",
    "    X[i] = scaler.fit_transform(note) # transform the whole thing"
   ]
  },
  {
   "cell_type": "code",
   "execution_count": 51,
   "id": "d8d485aa",
   "metadata": {},
   "outputs": [
    {
     "name": "stdout",
     "output_type": "stream",
     "text": [
      "\u001b[1m4/4\u001b[0m \u001b[32m━━━━━━━━━━━━━━━━━━━━\u001b[0m\u001b[37m\u001b[0m \u001b[1m0s\u001b[0m 2ms/step \n"
     ]
    }
   ],
   "source": [
    "predictions = model.predict(X)\n",
    "rounded_predictions = np.round(predictions).astype(int)\n",
    "predictions_list = rounded_predictions.tolist()"
   ]
  },
  {
   "cell_type": "code",
   "execution_count": 52,
   "id": "91dbe963",
   "metadata": {},
   "outputs": [],
   "source": [
    "pred_notes=[]\n",
    "for note in predictions_list:\n",
    "    pred_notes.append(note[0])"
   ]
  },
  {
   "cell_type": "code",
   "execution_count": 53,
   "id": "a186768e",
   "metadata": {},
   "outputs": [],
   "source": [
    "import mido\n",
    "from mido import Message, MidiFile, MidiTrack\n",
    "\n",
    "# Assuming 'predictions_list' is your list of integers\n",
    "# predictions_list = ...\n",
    "\n",
    "# Create a new MIDI file and a track\n",
    "mid = MidiFile()\n",
    "track = MidiTrack()\n",
    "mid.tracks.append(track)\n",
    "\n",
    "tempo = mido.bpm2tempo(120)  # Set tempo to 120 beats per minute\n",
    "track.append(mido.MetaMessage('set_tempo', tempo=tempo, time=0))\n",
    "\n",
    "# Add notes to the track\n",
    "time = 0\n",
    "for note in pred_notes:\n",
    "    # Note on\n",
    "    track.append(Message('note_on', note=note, velocity=64, time=time))\n",
    "    # Note off after 1 second (480 ticks)\n",
    "    track.append(Message('note_off', note=note, velocity=64, time=480))\n",
    "    # Add delay before next note\n",
    "    time = 240\n",
    "\n",
    "# Save the MIDI file\n",
    "mid.save('output.mid')"
   ]
  }
 ],
 "metadata": {
  "kernelspec": {
   "display_name": "Python 3 (ipykernel)",
   "language": "python",
   "name": "python3"
  },
  "language_info": {
   "codemirror_mode": {
    "name": "ipython",
    "version": 3
   },
   "file_extension": ".py",
   "mimetype": "text/x-python",
   "name": "python",
   "nbconvert_exporter": "python",
   "pygments_lexer": "ipython3",
   "version": "3.11.5"
  }
 },
 "nbformat": 4,
 "nbformat_minor": 5
}
