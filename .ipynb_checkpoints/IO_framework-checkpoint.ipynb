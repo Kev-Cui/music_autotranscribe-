{
 "cells": [
  {
   "cell_type": "code",
   "execution_count": 11,
   "id": "493815c4",
   "metadata": {},
   "outputs": [],
   "source": [
    "def iScribe(model_path = 'piano_mfccs_RNN-LSTM.keras',mp3_file_path = 'piano_lanternrite2022.mp3'):\n",
    "    from tensorflow.keras.models import load_model\n",
    "    import librosa\n",
    "    import numpy as np\n",
    "    from sklearn.preprocessing import StandardScaler\n",
    "    import mido\n",
    "    from mido import Message, MidiFile, MidiTrack\n",
    "    model = load_model(model_path)\n",
    "    y, sr = librosa.load(mp3_file_path)\n",
    "    n_mfcc=13\n",
    "    hop_length=512\n",
    "    mfccs = librosa.feature.mfcc(y=y, sr=sr, n_mfcc=n_mfcc, hop_length=hop_length)\n",
    "    mfccs_t = np.transpose(mfccs)\n",
    "    num_chunks = mfccs_t.shape[0] // 50\n",
    "    chunks = np.array_split(mfccs_t[:num_chunks*50], num_chunks)\n",
    "    if mfccs_t.shape[0] % 50 != 0:\n",
    "        last_chunk = np.pad(mfccs_t[num_chunks*50:], ((0, 50 - mfccs_t.shape[0] % 50), (0, 0)), mode='constant')\n",
    "        chunks.append(last_chunk)\n",
    "    X = np.array([np.transpose(chunk) for chunk in chunks])\n",
    "    scaler = StandardScaler()\n",
    "    for i, note in enumerate(X):\n",
    "        X[i] = scaler.fit_transform(note)\n",
    "    predictions = model.predict(X)\n",
    "    rounded_predictions = np.round(predictions).astype(int)\n",
    "    predictions_list = rounded_predictions.tolist()\n",
    "    pred_notes=[]\n",
    "    for note in predictions_list:\n",
    "        pred_notes.append(note[0])\n",
    "    mid = MidiFile()\n",
    "    track = MidiTrack()\n",
    "    mid.tracks.append(track)\n",
    "\n",
    "    tempo = mido.bpm2tempo(120)  # Set tempo to 120 beats per minute\n",
    "    track.append(mido.MetaMessage('set_tempo', tempo=tempo, time=0))\n",
    "\n",
    "    # Add notes to the track\n",
    "    time = 0\n",
    "    for note in pred_notes:\n",
    "        # Note on\n",
    "        track.append(Message('note_on', note=note, velocity=64, time=time))\n",
    "        # Note off after 1 second (480 ticks)\n",
    "        track.append(Message('note_off', note=note, velocity=64, time=480))\n",
    "        # Add delay before next note\n",
    "        time = 240\n",
    "\n",
    "    # Save the MIDI file\n",
    "    outputname = 'output_'+mp3_file_path.split('/')[-1].split('.')[0]+'.mid'\n",
    "    mid.save(outputname)\n",
    "    return mid"
   ]
  },
  {
   "cell_type": "code",
   "execution_count": null,
   "id": "749c16e5",
   "metadata": {},
   "outputs": [],
   "source": []
  }
 ],
 "metadata": {
  "kernelspec": {
   "display_name": "Python 3 (ipykernel)",
   "language": "python",
   "name": "python3"
  },
  "language_info": {
   "codemirror_mode": {
    "name": "ipython",
    "version": 3
   },
   "file_extension": ".py",
   "mimetype": "text/x-python",
   "name": "python",
   "nbconvert_exporter": "python",
   "pygments_lexer": "ipython3",
   "version": "3.11.5"
  }
 },
 "nbformat": 4,
 "nbformat_minor": 5
}
